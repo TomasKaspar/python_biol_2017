{
 "cells": [
  {
   "cell_type": "code",
   "execution_count": 28,
   "metadata": {},
   "outputs": [
    {
     "data": {
      "text/plain": [
       "[['banana, banana, banana'],\n",
       " ['apple, apple'],\n",
       " ['mango'],\n",
       " ['kiwi, kiwi, kiwi, kiwi, kiwi']]"
      ]
     },
     "execution_count": 28,
     "metadata": {},
     "output_type": "execute_result"
    }
   ],
   "source": [
    "fruits = {'banana':3,'apple':2, 'mango':1, 'kiwi':5}\n",
    "# result: fruits_list = ['banana', 'banana', 'banana'], ['apple', 'apple'], ['mango'], ['kiwi', 'kiwi', 'kiwi', 'kiwi', 'kiwi']]\n",
    "fruit_list = []\n",
    "for key, value in fruits.items():\n",
    "    a=[]\n",
    "    a.append(((key + \", \")*(value-1))+key)\n",
    "    fruit_list.append(a)\n",
    "fruit_list"
   ]
  },
  {
   "cell_type": "code",
   "execution_count": 71,
   "metadata": {},
   "outputs": [
    {
     "name": "stdout",
     "output_type": "stream",
     "text": [
      "kiwi\n"
     ]
    }
   ],
   "source": [
    "fruits = ['banana','apple', 'mango', 'kiwi']\n",
    "# result: shortest_fruit = 'kiwi'\n",
    "shortest_fruit = min((i for i in fruits if i), key=len)\n",
    "print(shortest_fruit)\n",
    "    "
   ]
  },
  {
   "cell_type": "code",
   "execution_count": null,
   "metadata": {
    "collapsed": true
   },
   "outputs": [],
   "source": []
  }
 ],
 "metadata": {
  "kernelspec": {
   "display_name": "Python 3",
   "language": "python",
   "name": "python3"
  },
  "language_info": {
   "codemirror_mode": {
    "name": "ipython",
    "version": 3
   },
   "file_extension": ".py",
   "mimetype": "text/x-python",
   "name": "python",
   "nbconvert_exporter": "python",
   "pygments_lexer": "ipython3",
   "version": "3.6.1"
  }
 },
 "nbformat": 4,
 "nbformat_minor": 2
}
