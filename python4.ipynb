{
 "cells": [
  {
   "cell_type": "code",
   "execution_count": 2,
   "metadata": {},
   "outputs": [
    {
     "name": "stdout",
     "output_type": "stream",
     "text": [
      "0.2857142857142857\n",
      "{'A': 0.286, 'T': 0.429, 'G': 0.143, 'C': 0.143}\n"
     ]
    }
   ],
   "source": [
    "seq = 'ACTGAATTTATGCT'\n",
    "\n",
    "def nucl_freq(dna, nucleotide):\n",
    "    count = 0\n",
    "    for i in dna:\n",
    "        if i == nucleotide:\n",
    "            count += 1\n",
    "    return count/len(dna)\n",
    "a_freq = nucl_freq(seq, 'A')\n",
    "print(a_freq)\n",
    "\n",
    "def nucl_freq_all(dna):\n",
    "    nucleotides = 'ATGC'\n",
    "    a = []\n",
    "    for i in nucleotides:\n",
    "        a.append(round(nucl_freq(dna, i),3))\n",
    "    a = dict(zip(nucleotides, a))\n",
    "    return a\n",
    "        \n",
    "freqs = nucl_freq_all(seq)\n",
    "print(freqs)\n",
    "\n",
    "assert nucl_freq_all('ACTGAATGCT') == {'A': 0.3, 'C': 0.2, 'G': 0.2, 'T': 0.3}"
   ]
  },
  {
   "cell_type": "code",
   "execution_count": null,
   "metadata": {
    "collapsed": true
   },
   "outputs": [],
   "source": []
  },
  {
   "cell_type": "code",
   "execution_count": null,
   "metadata": {
    "collapsed": true
   },
   "outputs": [],
   "source": []
  }
 ],
 "metadata": {
  "kernelspec": {
   "display_name": "Python 3",
   "language": "python",
   "name": "python3"
  },
  "language_info": {
   "codemirror_mode": {
    "name": "ipython",
    "version": 3
   },
   "file_extension": ".py",
   "mimetype": "text/x-python",
   "name": "python",
   "nbconvert_exporter": "python",
   "pygments_lexer": "ipython3",
   "version": "3.6.1"
  }
 },
 "nbformat": 4,
 "nbformat_minor": 2
}
