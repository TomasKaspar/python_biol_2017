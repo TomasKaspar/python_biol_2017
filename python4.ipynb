{
 "cells": [
  {
   "cell_type": "code",
   "execution_count": 30,
   "metadata": {},
   "outputs": [
    {
     "name": "stdout",
     "output_type": "stream",
     "text": [
      "3\n"
     ]
    },
    {
     "data": {
      "text/plain": [
       "{'A': 0.3, 'C': 0.2, 'G': 0.2, 'T': 0.3}"
      ]
     },
     "execution_count": 30,
     "metadata": {},
     "output_type": "execute_result"
    }
   ],
   "source": [
    "seq = 'ACTGAATGCT'\n",
    "def nucl_freq(dna, nucleotide):\n",
    "    count = 0\n",
    "    for i in dna:\n",
    "        if i == nucleotide:\n",
    "            count += 1\n",
    "    return count\n",
    "a_freq = nucl_freq(seq, 'A')\n",
    "print(a_freq)\n",
    "\n",
    "nucleotides = 'ATGC'\n",
    "def nucl_freq_all(seq):\n",
    "    [nucl_freq(seq, i) for i in nucleotides]\n",
    "    return [nucl_freq(seq, i) for i in nucleotides]\n",
    "fre = [i/len(seq) for i in nucl_freq_all(seq)]\n",
    "fre = dict( zip(nucleotides, fre))\n",
    "fre\n",
    "assert fre == {'A': 0.3, 'C': 0.2, 'G': 0.2, 'T': 0.3}"
   ]
  },
  {
   "cell_type": "code",
   "execution_count": null,
   "metadata": {
    "collapsed": true
   },
   "outputs": [],
   "source": []
  }
 ],
 "metadata": {
  "kernelspec": {
   "display_name": "Python 3",
   "language": "python",
   "name": "python3"
  },
  "language_info": {
   "codemirror_mode": {
    "name": "ipython",
    "version": 3
   },
   "file_extension": ".py",
   "mimetype": "text/x-python",
   "name": "python",
   "nbconvert_exporter": "python",
   "pygments_lexer": "ipython3",
   "version": "3.6.1"
  }
 },
 "nbformat": 4,
 "nbformat_minor": 2
}
