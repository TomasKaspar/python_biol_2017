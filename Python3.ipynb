{
 "cells": [
  {
   "cell_type": "code",
   "execution_count": 1,
   "metadata": {},
   "outputs": [
    {
     "name": "stdout",
     "output_type": "stream",
     "text": [
      "Král řekl Honzovi: \"Ta saň má 7 hlav! Zabij ji a dostaneš 1/2 království.\"\n",
      "Number of all signs is 74\n",
      "Number of letters in sentence is 52\n",
      "Number of numbers in sentence is 3\n",
      "Number of all other signs is 19\n"
     ]
    }
   ],
   "source": [
    "print('Král řekl Honzovi: \"Ta saň má 7 hlav! Zabij ji a dostaneš 1/2 království.\"')\n",
    "sentence = list('Král řekl Honzovi: \"Ta saň má 7 hlav! Zabij ji a dostaneš 1/2 království.\"')\n",
    "alphabet = (\"AÁBCČDĎEÉĚFGHIÍJKLMNŇOÓPQRŘSŠTŤUÚŮVWXYÝZŽ\")\n",
    "alphabet = list(alphabet + alphabet.lower())\n",
    "signs = sum(c != \" \" for c in sentence)\n",
    "spaces = sum(c == \" \" for c in sentence)\n",
    "x = set(alphabet).intersection(sentence)\n",
    "x\n",
    "a=0\n",
    "for i in alphabet:\n",
    "    x =  sentence.count(i)\n",
    "    a = a+x\n",
    "a\n",
    "numbers = list(\"0123456789\")\n",
    "b=0\n",
    "for i in numbers:\n",
    "    y =  sentence.count(i)\n",
    "    b = b+y\n",
    "b\n",
    "print(\"Number of all signs is {}\".format(signs+spaces))\n",
    "print(\"Number of letters in sentence is {}\".format(a))\n",
    "print(\"Number of numbers in sentence is {}\".format(b))\n",
    "print(\"Number of all other signs is {}\".format(signs - (a+b) + spaces))"
   ]
  },
  {
   "cell_type": "code",
   "execution_count": 74,
   "metadata": {},
   "outputs": [
    {
     "name": "stdout",
     "output_type": "stream",
     "text": [
      "Kolik je Vašemu Mikešovi? 30\n",
      "165\n"
     ]
    }
   ],
   "source": [
    "years = int(input(\"Kolik je Vašemu Mikešovi? \"))\n",
    "#if mikes = 83 result: mikes_lidsky_vek = 430\n",
    "if years == 1:\n",
    "    age = 18\n",
    "    print(age)\n",
    "elif years == 2:\n",
    "    age = 18 + 7\n",
    "    print(age)\n",
    "else:\n",
    "    age = (18 + 7 + ((years - 2)*5))\n",
    "    print(age)"
   ]
  },
  {
   "cell_type": "code",
   "execution_count": null,
   "metadata": {
    "collapsed": true
   },
   "outputs": [],
   "source": []
  },
  {
   "cell_type": "code",
   "execution_count": null,
   "metadata": {
    "collapsed": true
   },
   "outputs": [],
   "source": []
  }
 ],
 "metadata": {
  "kernelspec": {
   "display_name": "Python 3",
   "language": "python",
   "name": "python3"
  },
  "language_info": {
   "codemirror_mode": {
    "name": "ipython",
    "version": 3
   },
   "file_extension": ".py",
   "mimetype": "text/x-python",
   "name": "python",
   "nbconvert_exporter": "python",
   "pygments_lexer": "ipython3",
   "version": "3.6.1"
  }
 },
 "nbformat": 4,
 "nbformat_minor": 2
}
